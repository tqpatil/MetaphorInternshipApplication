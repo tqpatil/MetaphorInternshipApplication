{
 "cells": [
  {
   "cell_type": "markdown",
   "id": "7a40a954",
   "metadata": {},
   "source": [
    "# Git+Metaphor: A tool for finding useful tools\n",
    "Github contains a treasure trove of hidden or often unused useful tools that people rarely stumble upon, as people rely solely on programs that are not open-source or are very popular.\n",
    "\n",
    "This tool uses Langchain to create an LLM who's primary purpose is to prescribe github repositories to people depending on the problem they are trying to solve or the question that ask. \n",
    "\n",
    "You must include txt files in the same directory as the notebook containing your OPENAI API key, your OPENAI Organization key, and your Metaphor API key. \n",
    "\n",
    "Also make sure you have the necessary pip installs including: \n",
    "\n",
    "* pip install pydantic\n",
    "* pip install langchain\n",
    "* pip install metaphor-python"
   ]
  },
  {
   "cell_type": "code",
   "execution_count": 13,
   "id": "0c7680c0",
   "metadata": {},
   "outputs": [],
   "source": [
    "### RUN THIS CELL\n",
    "from langchain.chains import LLMChain\n",
    "from langchain.tools import StructuredTool\n",
    "from langchain.prompts import MessagesPlaceholder\n",
    "from langchain.agents import AgentType, initialize_agent, load_tools, Tool\n",
    "from langchain import OpenAI\n",
    "from langchain.chat_models import ChatOpenAI\n",
    "from langchain.memory import ConversationBufferMemory\n",
    "from metaphor_python import Metaphor\n",
    "from pydantic import BaseModel, Field\n"
   ]
  },
  {
   "cell_type": "code",
   "execution_count": 15,
   "id": "45326095",
   "metadata": {},
   "outputs": [],
   "source": [
    "### RUN THIS ONE TOO\n",
    "def search(text, start_published):\n",
    "    domain = \"https://github.com/\"\n",
    "    if (text == \"\"):\n",
    "        return \"Search Failed: Empty search query\"\n",
    "    with open(\"METAPHORAPI.txt\", \"r\") as text_file:\n",
    "        metaphorAPI=str(text_file.read())\n",
    "    metaphor = Metaphor(metaphorAPI)\n",
    "    strBuilder = \"\"\n",
    "    if (domain == \"\"):\n",
    "        if (start_published == \"\"):\n",
    "            search_resp = metaphor.search(text)\n",
    "        else:\n",
    "            search_resp = metaphor.search(text, start_published_date = start_published)\n",
    "    else:\n",
    "        if (start_published == \"\"):\n",
    "            d = [domain, ]  \n",
    "            search_resp = metaphor.search(text, include_domains = d)\n",
    "        else:\n",
    "            d = [domain, ]  \n",
    "            search_resp = metaphor.search(text, include_domains = d, start_published_date = start_published)\n",
    "    contents_resp = search_resp.get_contents()\n",
    "    for content in contents_resp.contents:\n",
    "        strBuilder+=f\"title: {content.title}, Url: {content.url}\\n\"\n",
    "    return strBuilder\n"
   ]
  },
  {
   "cell_type": "code",
   "execution_count": 16,
   "id": "71ceda9b",
   "metadata": {},
   "outputs": [],
   "source": [
    "### RUN THIS CELL\n",
    "class Smart_Tool_Agent:\n",
    "    def __init__(self):\n",
    "        agent_kwargs = {\n",
    "        \"extra_prompt_messages\": [MessagesPlaceholder(variable_name=\"memory\")],\n",
    "        }\n",
    "        memory = ConversationBufferMemory(memory_key=\"memory\", return_messages=True)\n",
    "        with open(\"OPENAIAPIKEY.txt\", \"r\") as text_file:\n",
    "            openaiAPI=str(text_file.read())\n",
    "        with open(\"OPENAIORGKEY.txt\", \"r\") as txt:\n",
    "            openaiOrg=str(txt.read())\n",
    "        llm = ChatOpenAI(openai_api_key=openaiAPI, openai_organization=openaiOrg, temperature=0.2, model=\"gpt-3.5-turbo-0613\")\n",
    "        disc =\"A search tool that allows you to access github and get links to repositories and their titles. Useful to provide users with links to interesting or useful Git repositories based on a user's request.\"\n",
    "        class searchSchema(BaseModel):\n",
    "            text: str = Field(description=\"Should be a search query to access the web in the format of how people describe a link on the Internet. For example, 'best restaurants in SF' is a bad query, whereas 'Here is the best restaurant in SF:' is a good query.\")\n",
    "            start_published: str = Field(description= \"A date filter for only producing results past a certain date. Dates should be a string in the format 'YYYY-MM-DD'.\")\n",
    "\n",
    "        tool = StructuredTool.from_function(name=\"searchTool\", func=search, description=disc, args_schema=searchSchema)\n",
    "        tools=[tool,]\n",
    "        self.agent=initialize_agent(tools, llm, agent=AgentType.OPENAI_FUNCTIONS, agent_kwargs=agent_kwargs, memory=memory, max_iterations=10)\n",
    "    def get_response(self, promptMessage):\n",
    "        return self.agent.run(\"You are a LLM that can access github repositories using a 'search' tool. You always provide links to github repositories in response to any question a user has in order to solve that user's question or issue. You can then also provide explanation and answer the user, but you must always search github and return links to the user. Here is the user's message:\\n\" + promptMessage)\n",
    "    \n"
   ]
  },
  {
   "cell_type": "code",
   "execution_count": 17,
   "id": "dc445ef3",
   "metadata": {},
   "outputs": [
    {
     "name": "stdout",
     "output_type": "stream",
     "text": [
      "I found some GitHub repositories related to web scraping news. Here are the links:\n",
      "\n",
      "1. [Python3Spiders/AllNewsSpider](https://github.com/Python3Spiders/AllNewsSpider): This repository aims to scrape news from various news portals. Please note that the data obtained should not be used for commercial purposes.\n",
      "\n",
      "2. [riad-azz/bbc-news-scraper](https://github.com/riad-azz/bbc-news-scraper): This repository allows you to scrape news articles from the BBC using Google search.\n",
      "\n",
      "3. [gabrielkheisa/news-scrapper](https://github.com/gabrielkheisa/news-scrapper): This repository retrieves the four newest news articles from a news portal.\n",
      "\n",
      "4. [houstonharwood/my-data-robot](https://github.com/houstonharwood/my-data-robot): This repository automatically scrapes data from websites for news reporting purposes.\n",
      "\n",
      "5. [mugilanD98/GNscraper](https://github.com/mugilanD98/GNscraper): This repository is a news scraper.\n",
      "\n",
      "6. [allanvini/Python-web-scraping](https://github.com/allanvini/Python-web-scraping): This repository provides a simple web scraping solution to get the latest news using Python.\n",
      "\n",
      "7. [rootVIII/boogle](https://github.com/rootVIII/boogle): This repository scrapes Google News articles and retrieves the title, article link, and OG Image for each news article.\n",
      "\n",
      "8. [lyw1217/scraping-news](https://github.com/lyw1217/scraping-news): This repository is a Python-based news crawling (scraping) solution.\n",
      "\n",
      "9. [Boris-code/news-spider](https://github.com/Boris-code/news-spider): This repository is a news spider that can crawl any news website without the need to write configuration rules.\n",
      "\n",
      "10. [UnPolinomio/news-scraper](https://github.com/UnPolinomio/news-scraper): This repository is a Python-based web scraper for news sites.\n",
      "\n",
      "Please note that I have filtered the results to show repositories published after January 1, 2022. You can explore these repositories to find a suitable solution for web scraping news.\n"
     ]
    }
   ],
   "source": [
    "## EXAMPLE OF HOW TO USE THE LLM TOOL:\n",
    "new_agent=Smart_Tool_Agent()\n",
    "user_input = \"Find me a way to scrapes the web for news\" \n",
    "print(new_agent.get_response(user_input))"
   ]
  },
  {
   "cell_type": "code",
   "execution_count": null,
   "id": "77f3aff0",
   "metadata": {},
   "outputs": [],
   "source": [
    "### INTERACTIVE VERSION\n",
    "new_agent=Smart_Tool_Agent()\n",
    "while user_input != \"q\":\n",
    "    user_input = input(\"Enter something (or 'q' to quit): \")\n",
    "print(new_agent.get_response(user_input))"
   ]
  },
  {
   "cell_type": "code",
   "execution_count": null,
   "id": "9b5b9f0e",
   "metadata": {},
   "outputs": [],
   "source": []
  },
  {
   "cell_type": "code",
   "execution_count": null,
   "id": "6bc1f2f8",
   "metadata": {},
   "outputs": [],
   "source": []
  }
 ],
 "metadata": {
  "kernelspec": {
   "display_name": "environment",
   "language": "python",
   "name": "python3"
  },
  "language_info": {
   "codemirror_mode": {
    "name": "ipython",
    "version": 3
   },
   "file_extension": ".py",
   "mimetype": "text/x-python",
   "name": "python",
   "nbconvert_exporter": "python",
   "pygments_lexer": "ipython3",
   "version": "3.11.2"
  }
 },
 "nbformat": 4,
 "nbformat_minor": 5
}
